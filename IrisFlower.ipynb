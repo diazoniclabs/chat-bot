{
 "cells": [
  {
   "cell_type": "code",
   "execution_count": 1,
   "id": "399c5978",
   "metadata": {},
   "outputs": [
    {
     "name": "stdout",
     "output_type": "stream",
     "text": [
      "\n",
      "Acuuracy\n",
      " 0.9333333333333333\n",
      "\n",
      "Confusion Matrix\n",
      " [[10  0  0]\n",
      " [ 0 12  1]\n",
      " [ 0  1  6]]\n",
      "\n",
      "Classification Report\n",
      "                  precision    recall  f1-score   support\n",
      "\n",
      "    Iris-setosa       1.00      1.00      1.00        10\n",
      "Iris-versicolor       0.92      0.92      0.92        13\n",
      " Iris-virginica       0.86      0.86      0.86         7\n",
      "\n",
      "       accuracy                           0.93        30\n",
      "      macro avg       0.93      0.93      0.93        30\n",
      "   weighted avg       0.93      0.93      0.93        30\n",
      "\n",
      "Execution_time: 0.009912967681884766\n"
     ]
    }
   ],
   "source": [
    "import pandas as pd\n",
    "from sklearn import model_selection\n",
    "from sklearn.metrics import accuracy_score\n",
    "from sklearn.metrics import confusion_matrix\n",
    "from sklearn.metrics import classification_report\n",
    "#from sklearn.tree import DecisionTreeClassifier\n",
    "from sklearn.svm import SVC\n",
    "from sklearn.model_selection import train_test_split\n",
    "import time\n",
    "dataset=pd.read_csv('Iris.csv')\n",
    "array = dataset.values\n",
    "X = array[:,1:4]\n",
    "Y = array[:, 5]\n",
    "test_train_split_size = 0.20\n",
    "seed =10\n",
    "X_train, X_test, Y_train, Y_test = train_test_split(X, Y, test_size=0.2, random_state=seed)\n",
    "t0=time.time()  \n",
    "#dt = DecisionTreeClassifier(max_depth=6, random_state=seed)\n",
    "dt = SVC()\n",
    "      # Performing training\n",
    "dt.fit(X_train, Y_train)\n",
    "predictions = dt.predict(X_test)\n",
    "Accuracy = accuracy_score(Y_test, predictions)\n",
    "print(\"\\nAcuuracy\\n\", Accuracy)\n",
    "Classification_Report = classification_report(Y_test, predictions)\n",
    "Confusion_Matrix = confusion_matrix(Y_test, predictions)\n",
    "print(\"\\nConfusion Matrix\\n\", Confusion_Matrix)\n",
    "print(\"\\nClassification Report\\n\", Classification_Report)\n",
    "p_time=time.time()-t0\n",
    "print(\"Execution_time:\", p_time)\n",
    "#Save the model as Pickle\n",
    "import pickle\n",
    "with open(r'rf.pkl','wb') as model_pkl:\n",
    "    pickle.dump(dt, model_pkl, protocol=2)\n"
   ]
  },
  {
   "cell_type": "code",
   "execution_count": null,
   "id": "86bd4236",
   "metadata": {},
   "outputs": [],
   "source": []
  }
 ],
 "metadata": {
  "kernelspec": {
   "display_name": "Python 3 (ipykernel)",
   "language": "python",
   "name": "python3"
  },
  "language_info": {
   "codemirror_mode": {
    "name": "ipython",
    "version": 3
   },
   "file_extension": ".py",
   "mimetype": "text/x-python",
   "name": "python",
   "nbconvert_exporter": "python",
   "pygments_lexer": "ipython3",
   "version": "3.9.7"
  }
 },
 "nbformat": 4,
 "nbformat_minor": 5
}
